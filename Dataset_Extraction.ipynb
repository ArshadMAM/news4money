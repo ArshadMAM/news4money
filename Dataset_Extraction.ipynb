{
 "cells": [
  {
   "cell_type": "markdown",
   "metadata": {},
   "source": [
    "# Newsapi"
   ]
  },
  {
   "cell_type": "code",
   "execution_count": 2,
   "metadata": {
    "scrolled": true
   },
   "outputs": [
    {
     "name": "stdout",
     "output_type": "stream",
     "text": [
      "Requirement already satisfied: newsapi-python in d:\\anaconda\\lib\\site-packages (0.2.3)\n",
      "Requirement already satisfied: requests==2.17.1 in d:\\anaconda\\lib\\site-packages (from newsapi-python) (2.17.1)\n",
      "Requirement already satisfied: certifi>=2017.4.17 in d:\\anaconda\\lib\\site-packages (from requests==2.17.1->newsapi-python) (2019.3.9)\n",
      "Requirement already satisfied: idna<2.6,>=2.5 in d:\\anaconda\\lib\\site-packages (from requests==2.17.1->newsapi-python) (2.5)\n",
      "Requirement already satisfied: urllib3<1.22,>=1.21.1 in d:\\anaconda\\lib\\site-packages (from requests==2.17.1->newsapi-python) (1.21.1)\n",
      "Requirement already satisfied: chardet<3.1.0,>=3.0.2 in d:\\anaconda\\lib\\site-packages (from requests==2.17.1->newsapi-python) (3.0.4)\n",
      "Note: you may need to restart the kernel to use updated packages.\n"
     ]
    }
   ],
   "source": [
    "pip install newsapi-python"
   ]
  },
  {
   "cell_type": "code",
   "execution_count": 3,
   "metadata": {},
   "outputs": [],
   "source": [
    "from newsapi import NewsApiClient\n",
    "import requests\n",
    "import pandas as pd\n",
    "import numpy as np"
   ]
  },
  {
   "cell_type": "markdown",
   "metadata": {},
   "source": [
    "# To gather source-filtered news about Tesla from 1 month ago"
   ]
  },
  {
   "cell_type": "markdown",
   "metadata": {},
   "source": [
    "## To gather from reputable sources "
   ]
  },
  {
   "cell_type": "code",
   "execution_count": 4,
   "metadata": {},
   "outputs": [],
   "source": [
    "api = NewsApiClient(api_key='a33e0552bf474cb8b3a20c5e6e07a3d0')\n",
    "all_source = api.get_sources()"
   ]
  },
  {
   "cell_type": "code",
   "execution_count": 5,
   "metadata": {},
   "outputs": [],
   "source": [
    "dfsource = []\n",
    "\n",
    "for i in range(0, len(all_source[\"sources\"])):\n",
    "    dfsource.append(all_source[\"sources\"][i][\"id\"])"
   ]
  },
  {
   "cell_type": "code",
   "execution_count": 6,
   "metadata": {},
   "outputs": [],
   "source": [
    "sourcelist=[11,16,18,19,24,35,38,40,43,61,97,110,118,124,125,126] #hand-picked\n",
    "antisourcelist = []\n",
    "\n",
    "for i in range(0, 135):\n",
    "    if i not in sourcelist:\n",
    "        antisourcelist.append(i)"
   ]
  },
  {
   "cell_type": "code",
   "execution_count": 7,
   "metadata": {},
   "outputs": [],
   "source": [
    "dfsource = pd.DataFrame(dfsource)\n",
    "\n",
    "dfsource.columns=[\"sources\"]\n",
    "\n",
    "for i in antisourcelist:\n",
    "    dfsource.drop(labels = i, inplace = True)\n",
    "    \n",
    "dfsource.reset_index(drop = True, inplace = True)"
   ]
  },
  {
   "cell_type": "markdown",
   "metadata": {},
   "source": [
    "## To get the news articles"
   ]
  },
  {
   "cell_type": "code",
   "execution_count": 8,
   "metadata": {},
   "outputs": [],
   "source": [
    "articlelist = []\n",
    "\n",
    "for i in range(0, 16):\n",
    "    response = api.get_everything(q=\"tesla\", sources=dfsource.at[i, \"sources\"], page_size=100)\n",
    "    for j in range(0, len(response[\"articles\"])):\n",
    "        articlelist.append(response[\"articles\"][j])\n",
    "    \n",
    "\n",
    "df = pd.DataFrame(articlelist)"
   ]
  },
  {
   "cell_type": "code",
   "execution_count": 9,
   "metadata": {},
   "outputs": [],
   "source": [
    "df.drop(columns = [\"url\", \"urlToImage\"], inplace = True)"
   ]
  },
  {
   "cell_type": "markdown",
   "metadata": {},
   "source": [
    "# Intraday Prices"
   ]
  },
  {
   "cell_type": "markdown",
   "metadata": {},
   "source": [
    "## Worldtradingdata API"
   ]
  },
  {
   "cell_type": "code",
   "execution_count": 10,
   "metadata": {},
   "outputs": [],
   "source": [
    "time_data = requests.get(\"https://intraday.worldtradingdata.com/api/v1/intraday?symbol=TSLA&range=30&interval=5&api_token=HRVV5II6c1MHwsJlPZH2OMw8iJCgZxCjXBR9G9zUOcCxATO6AJxaEfF27gI4\")"
   ]
  },
  {
   "cell_type": "markdown",
   "metadata": {},
   "source": [
    "## Convert to readable format"
   ]
  },
  {
   "cell_type": "code",
   "execution_count": 11,
   "metadata": {},
   "outputs": [],
   "source": [
    "time_data = time_data.json()"
   ]
  },
  {
   "cell_type": "code",
   "execution_count": 12,
   "metadata": {},
   "outputs": [],
   "source": [
    "timedict = {}\n",
    "\n",
    "for k in time_data[\"intraday\"].keys():\n",
    "    timedict.update({k : time_data[\"intraday\"][k][\"open\"]})"
   ]
  },
  {
   "cell_type": "code",
   "execution_count": 13,
   "metadata": {},
   "outputs": [],
   "source": [
    "dftime = pd.DataFrame([timedict])\n",
    "dftime = dftime.T #transpose\n",
    "dftime.columns = [\"opening prices\"]"
   ]
  },
  {
   "cell_type": "markdown",
   "metadata": {},
   "source": [
    "## To save as csv"
   ]
  },
  {
   "cell_type": "code",
   "execution_count": 1,
   "metadata": {
    "scrolled": false
   },
   "outputs": [
    {
     "ename": "NameError",
     "evalue": "name 'df' is not defined",
     "output_type": "error",
     "traceback": [
      "\u001b[1;31m---------------------------------------------------------------------------\u001b[0m",
      "\u001b[1;31mNameError\u001b[0m                                 Traceback (most recent call last)",
      "\u001b[1;32m<ipython-input-1-607db1f679a2>\u001b[0m in \u001b[0;36m<module>\u001b[1;34m\u001b[0m\n\u001b[1;32m----> 1\u001b[1;33m \u001b[0mdf\u001b[0m\u001b[1;33m.\u001b[0m\u001b[0mto_csv\u001b[0m\u001b[1;33m(\u001b[0m\u001b[1;34mr\"C:\\Users\\Arsha\\OneDrive\\Documents\\Arshad\\University\\Year 3\\FYP\\News_Data.csv\"\u001b[0m\u001b[1;33m)\u001b[0m\u001b[1;33m\u001b[0m\u001b[1;33m\u001b[0m\u001b[0m\n\u001b[0m",
      "\u001b[1;31mNameError\u001b[0m: name 'df' is not defined"
     ]
    }
   ],
   "source": [
    "df.to_csv(r\"C:\\Users\\Arsha\\OneDrive\\Documents\\Arshad\\University\\Year 3\\FYP\\News_Data.csv\", mode=\"a\")\n",
    "dftime.to_csv(r\"C:\\Users\\Arsha\\OneDrive\\Documents\\Arshad\\University\\Year 3\\FYP\\Stock_Time_Data.csv\", mode=\"a\")"
   ]
  },
  {
   "cell_type": "markdown",
   "metadata": {},
   "source": [
    "## Change timestamps from Coordinated Universal Time(UTC) to NASDAQ/New York local time   --  NASDAQ = UTC (-5)"
   ]
  },
  {
   "cell_type": "code",
   "execution_count": 192,
   "metadata": {},
   "outputs": [],
   "source": [
    "from datetime import datetime"
   ]
  },
  {
   "cell_type": "code",
   "execution_count": 197,
   "metadata": {},
   "outputs": [
    {
     "ename": "SyntaxError",
     "evalue": "invalid syntax (<ipython-input-197-a8f3f283057c>, line 1)",
     "output_type": "error",
     "traceback": [
      "\u001b[1;36m  File \u001b[1;32m\"<ipython-input-197-a8f3f283057c>\"\u001b[1;36m, line \u001b[1;32m1\u001b[0m\n\u001b[1;33m    datetime.strptime(df.at[0, \"publishedAt\"], %y %m %d )\u001b[0m\n\u001b[1;37m                                               ^\u001b[0m\n\u001b[1;31mSyntaxError\u001b[0m\u001b[1;31m:\u001b[0m invalid syntax\n"
     ]
    }
   ],
   "source": [
    "datetime.strptime(df.at[0, \"publishedAt\"], %y %m %d )"
   ]
  },
  {
   "cell_type": "code",
   "execution_count": 180,
   "metadata": {},
   "outputs": [
    {
     "data": {
      "text/plain": [
       "'2019-05-22T12:26:05Z'"
      ]
     },
     "execution_count": 180,
     "metadata": {},
     "output_type": "execute_result"
    }
   ],
   "source": [
    "df.at[0, \"publishedAt\"] #should be 07:26:05"
   ]
  },
  {
   "cell_type": "code",
   "execution_count": 185,
   "metadata": {},
   "outputs": [],
   "source": [
    "listword = df.at[0, \"publishedAt\"].split(\"T\")"
   ]
  },
  {
   "cell_type": "code",
   "execution_count": 191,
   "metadata": {},
   "outputs": [
    {
     "name": "stdout",
     "output_type": "stream",
     "text": [
      "Wall time: 0 ns\n"
     ]
    },
    {
     "data": {
      "text/plain": [
       "'12:26:05'"
      ]
     },
     "execution_count": 191,
     "metadata": {},
     "output_type": "execute_result"
    }
   ],
   "source": [
    "time(listword[1][0:8])"
   ]
  },
  {
   "cell_type": "markdown",
   "metadata": {},
   "source": [
    "# Link news article dataset with stock timestamp dataset"
   ]
  }
 ],
 "metadata": {
  "kernelspec": {
   "display_name": "Python 3",
   "language": "python",
   "name": "python3"
  },
  "language_info": {
   "codemirror_mode": {
    "name": "ipython",
    "version": 3
   },
   "file_extension": ".py",
   "mimetype": "text/x-python",
   "name": "python",
   "nbconvert_exporter": "python",
   "pygments_lexer": "ipython3",
   "version": "3.7.3"
  }
 },
 "nbformat": 4,
 "nbformat_minor": 2
}
