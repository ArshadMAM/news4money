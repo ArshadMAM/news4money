{
 "cells": [
  {
   "cell_type": "code",
   "execution_count": 2,
   "metadata": {},
   "outputs": [],
   "source": [
    "import pandas as pd\n",
    "import numpy as np"
   ]
  },
  {
   "cell_type": "code",
   "execution_count": 14,
   "metadata": {},
   "outputs": [],
   "source": [
    "df = pd.read_csv(r\"*insertpath\\newsdata.csv\")\n",
    "df_time = pd.read_csv(r\"*insertpart\\stockprice.csv\")"
   ]
  },
  {
   "cell_type": "code",
   "execution_count": 15,
   "metadata": {},
   "outputs": [],
   "source": [
    "df[\"source\"] = df[\"source\"].map(lambda source: eval(source)[\"id\"])"
   ]
  },
  {
   "cell_type": "markdown",
   "metadata": {},
   "source": [
    "## Round off article publication time to nearest 5.00 mins"
   ]
  },
  {
   "cell_type": "code",
   "execution_count": 16,
   "metadata": {},
   "outputs": [],
   "source": [
    "df[\"timestamp\"] = df[\"publishedAt\"].str.split(\"T\")"
   ]
  },
  {
   "cell_type": "code",
   "execution_count": 17,
   "metadata": {},
   "outputs": [],
   "source": [
    "time_boundary = []\n",
    "\n",
    "for i in range(0,61,5):\n",
    "    time_boundary.append(i)\n",
    "\n",
    "def timeformat(time, timedelay):\n",
    "    \n",
    "    hour = int(time[0:2]) - 5 #UTC to NASDAQ time\n",
    "    minute = int(time[3:5]) + timedelay\n",
    "    \n",
    "    if minute > 60:\n",
    "        hour += 1\n",
    "        minute = minute - 60\n",
    "    \n",
    "    ##if minute between 55 and 60, checks how close it is to each and adjusts accordingly\n",
    "    for i in range(0, len(time_boundary) - 1):\n",
    "        if time_boundary[i] - minute < 0 | time_boundary[i+1] - minute >= 0:\n",
    "            avgtime = (1/2)*(time_boundary[i] + time_boundary[i+1])\n",
    "            \n",
    "            if avgtime - minute >= 0: \n",
    "                minute = time_boundary[i]\n",
    "            elif avgtime - minute < 0:\n",
    "                if time_boundary[i+1] == 60:\n",
    "                    minute = 0\n",
    "                    hour += 1\n",
    "                else:\n",
    "                    minute = time_boundary[i+1]\n",
    "            else: \n",
    "                print(\"error\")\n",
    "            break\n",
    "            \n",
    "    if hour < 10:\n",
    "        if hour < 0:\n",
    "            hour = str(24 + hour) #date discrepancy is acknowledged\n",
    "        else:\n",
    "            hour = \"0\" + str(hour)\n",
    "    else: \n",
    "        hour = str(hour)\n",
    "        \n",
    "    if minute == 0 or minute == 5:\n",
    "        minute = \"0\" + str(minute)\n",
    "    else:\n",
    "        \n",
    "        minute = str(minute)\n",
    "        \n",
    "    time = str(hour)+\":\"+str(minute)+\":\"+\"00\"\n",
    "    \n",
    "    return(time)"
   ]
  },
  {
   "cell_type": "code",
   "execution_count": 18,
   "metadata": {},
   "outputs": [],
   "source": [
    "df[\"date\"] = df[\"timestamp\"].apply(lambda timestamp: timestamp[0])\n",
    "df[\"time\"] = df[\"timestamp\"].apply(lambda time: time[1][0:8])"
   ]
  },
  {
   "cell_type": "code",
   "execution_count": 19,
   "metadata": {},
   "outputs": [],
   "source": [
    "df[\"time_before\"] = df[\"date\"] + \" \" + df[\"time\"].apply(lambda x: timeformat(time=x, timedelay=0))\n",
    "df[\"time_after\"] = df[\"date\"] + \" \" + df[\"time\"].apply(lambda x: timeformat(time=x, timedelay=20))"
   ]
  },
  {
   "cell_type": "code",
   "execution_count": 20,
   "metadata": {},
   "outputs": [],
   "source": [
    "df = df.drop([\"publishedAt\", \"date\", \"time\", \"timestamp\"], axis=1)"
   ]
  },
  {
   "cell_type": "markdown",
   "metadata": {},
   "source": [
    "## Merge df_time with df"
   ]
  },
  {
   "cell_type": "code",
   "execution_count": 22,
   "metadata": {},
   "outputs": [],
   "source": [
    "df = df.merge(df_time, how=\"left\", left_on=\"time_before\", right_on=\"time\")\n",
    "df = df.merge(df_time, how=\"left\", left_on=\"time_after\", right_on=\"time\")\n",
    "df = df.drop_duplicates(subset=\"content\").reset_index(drop=True)"
   ]
  },
  {
   "cell_type": "code",
   "execution_count": 23,
   "metadata": {
    "scrolled": true
   },
   "outputs": [],
   "source": [
    "df.rename({\"opening prices_x\": \"price_before\", \"opening prices_y\": \"price_after\"}, axis=1, inplace = True)\n",
    "\n",
    "df.drop([\"time_x\", \"time_y\"],axis=1, inplace = True)\n",
    "df.dropna(inplace = True)\n",
    "df.reset_index(drop=True,inplace=True)"
   ]
  },
  {
   "cell_type": "code",
   "execution_count": 28,
   "metadata": {},
   "outputs": [
    {
     "data": {
      "text/plain": [
       "content         186\n",
       "source          186\n",
       "title           186\n",
       "time_before     186\n",
       "time_after      186\n",
       "price_before    186\n",
       "price_after     186\n",
       "dtype: int64"
      ]
     },
     "execution_count": 28,
     "metadata": {},
     "output_type": "execute_result"
    }
   ],
   "source": [
    "df.count()"
   ]
  },
  {
   "cell_type": "code",
   "execution_count": 29,
   "metadata": {},
   "outputs": [],
   "source": [
    "df[\"price_change\"] = df[\"price_after\"] - df[\"price_before\"]"
   ]
  },
  {
   "cell_type": "code",
   "execution_count": 30,
   "metadata": {
    "scrolled": true
   },
   "outputs": [
    {
     "name": "stderr",
     "output_type": "stream",
     "text": [
      "D:\\Anaconda\\lib\\site-packages\\ipykernel_launcher.py:2: SettingWithCopyWarning: \n",
      "A value is trying to be set on a copy of a slice from a DataFrame\n",
      "\n",
      "See the caveats in the documentation: http://pandas.pydata.org/pandas-docs/stable/indexing.html#indexing-view-versus-copy\n",
      "  \n",
      "D:\\Anaconda\\lib\\site-packages\\ipykernel_launcher.py:3: SettingWithCopyWarning: \n",
      "A value is trying to be set on a copy of a slice from a DataFrame\n",
      "\n",
      "See the caveats in the documentation: http://pandas.pydata.org/pandas-docs/stable/indexing.html#indexing-view-versus-copy\n",
      "  This is separate from the ipykernel package so we can avoid doing imports until\n"
     ]
    }
   ],
   "source": [
    "df[\"price_movement\"] = df[\"price_change\"].map(lambda x: int(x))\n",
    "df[\"price_movement\"][df[\"price_change\"] > 0] = 1\n",
    "df[\"price_movement\"][df[\"price_change\"] < 0] = 0"
   ]
  },
  {
   "cell_type": "code",
   "execution_count": 31,
   "metadata": {},
   "outputs": [],
   "source": [
    "def concat_LEARN_MORE(content):\n",
    "    if content[len(content)-10:] == \"LEARN MORE\":\n",
    "        return content[0:len(content)-10]\n",
    "    else: return content"
   ]
  },
  {
   "cell_type": "code",
   "execution_count": 32,
   "metadata": {},
   "outputs": [],
   "source": [
    "df[\"content\"] = df[\"content\"].apply(concat_LEARN_MORE)"
   ]
  },
  {
   "cell_type": "code",
   "execution_count": 34,
   "metadata": {},
   "outputs": [],
   "source": [
    "df.to_csv(r\"*insertpath\\Data.csv\", index = False)"
   ]
  },
  {
   "cell_type": "code",
   "execution_count": 7,
   "metadata": {},
   "outputs": [
    {
     "data": {
      "text/html": [
       "<div>\n",
       "<style scoped>\n",
       "    .dataframe tbody tr th:only-of-type {\n",
       "        vertical-align: middle;\n",
       "    }\n",
       "\n",
       "    .dataframe tbody tr th {\n",
       "        vertical-align: top;\n",
       "    }\n",
       "\n",
       "    .dataframe thead th {\n",
       "        text-align: right;\n",
       "    }\n",
       "</style>\n",
       "<table border=\"1\" class=\"dataframe\">\n",
       "  <thead>\n",
       "    <tr style=\"text-align: right;\">\n",
       "      <th></th>\n",
       "      <th>content</th>\n",
       "      <th>source</th>\n",
       "      <th>title</th>\n",
       "      <th>time_before</th>\n",
       "      <th>time_after</th>\n",
       "      <th>price_before</th>\n",
       "      <th>price_after</th>\n",
       "      <th>price_change</th>\n",
       "      <th>price_movement</th>\n",
       "    </tr>\n",
       "  </thead>\n",
       "  <tbody>\n",
       "    <tr>\n",
       "      <th>21</th>\n",
       "      <td>When you're watching a car commercial, the veh...</td>\n",
       "      <td>business-insider</td>\n",
       "      <td>A cinematographer reveals one thing you probab...</td>\n",
       "      <td>2019-05-17 12:40:00</td>\n",
       "      <td>2019-05-17 13:00:00</td>\n",
       "      <td>218.79</td>\n",
       "      <td>218.58</td>\n",
       "      <td>-0.21</td>\n",
       "      <td>0</td>\n",
       "    </tr>\n",
       "    <tr>\n",
       "      <th>168</th>\n",
       "      <td>Silicon Valley billionaire Elon Musk tweeted l...</td>\n",
       "      <td>financial-post</td>\n",
       "      <td>Elon Musk becomes ‘Daddy DotCom’ on Twitter</td>\n",
       "      <td>2019-06-17 09:45:00</td>\n",
       "      <td>2019-06-17 10:05:00</td>\n",
       "      <td>218.07</td>\n",
       "      <td>220.63</td>\n",
       "      <td>2.56</td>\n",
       "      <td>1</td>\n",
       "    </tr>\n",
       "    <tr>\n",
       "      <th>73</th>\n",
       "      <td>(Reuters) - A U.S. judge on Friday said Elon M...</td>\n",
       "      <td>reuters</td>\n",
       "      <td>Trial date set for Elon Musk's 'pedo guy' tweet</td>\n",
       "      <td>2019-05-10 15:20:00</td>\n",
       "      <td>2019-05-10 15:40:00</td>\n",
       "      <td>240.38</td>\n",
       "      <td>239.64</td>\n",
       "      <td>-0.74</td>\n",
       "      <td>0</td>\n",
       "    </tr>\n",
       "    <tr>\n",
       "      <th>38</th>\n",
       "      <td>Flight attendants reported a significant amoun...</td>\n",
       "      <td>business-insider</td>\n",
       "      <td>38% of flight attendants said in a new survey ...</td>\n",
       "      <td>2019-05-16 11:15:00</td>\n",
       "      <td>2019-05-16 11:35:00</td>\n",
       "      <td>228.77</td>\n",
       "      <td>228.96</td>\n",
       "      <td>0.19</td>\n",
       "      <td>1</td>\n",
       "    </tr>\n",
       "    <tr>\n",
       "      <th>128</th>\n",
       "      <td>AMD\\r\\nRobinhood, the app popular among young ...</td>\n",
       "      <td>business-insider</td>\n",
       "      <td>Robinhood investors are scooping up AMD after ...</td>\n",
       "      <td>2019-05-30 10:45:00</td>\n",
       "      <td>2019-05-30 11:05:00</td>\n",
       "      <td>187.49</td>\n",
       "      <td>187.44</td>\n",
       "      <td>-0.05</td>\n",
       "      <td>0</td>\n",
       "    </tr>\n",
       "  </tbody>\n",
       "</table>\n",
       "</div>"
      ],
      "text/plain": [
       "                                               content            source  \\\n",
       "21   When you're watching a car commercial, the veh...  business-insider   \n",
       "168  Silicon Valley billionaire Elon Musk tweeted l...    financial-post   \n",
       "73   (Reuters) - A U.S. judge on Friday said Elon M...           reuters   \n",
       "38   Flight attendants reported a significant amoun...  business-insider   \n",
       "128  AMD\\r\\nRobinhood, the app popular among young ...  business-insider   \n",
       "\n",
       "                                                 title          time_before  \\\n",
       "21   A cinematographer reveals one thing you probab...  2019-05-17 12:40:00   \n",
       "168        Elon Musk becomes ‘Daddy DotCom’ on Twitter  2019-06-17 09:45:00   \n",
       "73     Trial date set for Elon Musk's 'pedo guy' tweet  2019-05-10 15:20:00   \n",
       "38   38% of flight attendants said in a new survey ...  2019-05-16 11:15:00   \n",
       "128  Robinhood investors are scooping up AMD after ...  2019-05-30 10:45:00   \n",
       "\n",
       "              time_after  price_before  price_after  price_change  \\\n",
       "21   2019-05-17 13:00:00        218.79       218.58         -0.21   \n",
       "168  2019-06-17 10:05:00        218.07       220.63          2.56   \n",
       "73   2019-05-10 15:40:00        240.38       239.64         -0.74   \n",
       "38   2019-05-16 11:35:00        228.77       228.96          0.19   \n",
       "128  2019-05-30 11:05:00        187.49       187.44         -0.05   \n",
       "\n",
       "     price_movement  \n",
       "21                0  \n",
       "168               1  \n",
       "73                0  \n",
       "38                1  \n",
       "128               0  "
      ]
     },
     "execution_count": 7,
     "metadata": {},
     "output_type": "execute_result"
    }
   ],
   "source": [
    "df.sample(5)"
   ]
  }
 ],
 "metadata": {
  "kernelspec": {
   "display_name": "Python 3",
   "language": "python",
   "name": "python3"
  },
  "language_info": {
   "codemirror_mode": {
    "name": "ipython",
    "version": 3
   },
   "file_extension": ".py",
   "mimetype": "text/x-python",
   "name": "python",
   "nbconvert_exporter": "python",
   "pygments_lexer": "ipython3",
   "version": "3.7.3"
  }
 },
 "nbformat": 4,
 "nbformat_minor": 2
}
