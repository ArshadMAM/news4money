{
 "cells": [
  {
   "cell_type": "markdown",
   "metadata": {},
   "source": [
    "# Newsapi"
   ]
  },
  {
   "cell_type": "code",
   "execution_count": 1,
   "metadata": {
    "scrolled": true
   },
   "outputs": [
    {
     "name": "stdout",
     "output_type": "stream",
     "text": [
      "Requirement already satisfied: newsapi-python in d:\\anaconda\\lib\\site-packages (0.2.3)\n",
      "Requirement already satisfied: requests==2.17.1 in d:\\anaconda\\lib\\site-packages (from newsapi-python) (2.17.1)\n",
      "Requirement already satisfied: chardet<3.1.0,>=3.0.2 in d:\\anaconda\\lib\\site-packages (from requests==2.17.1->newsapi-python) (3.0.4)\n",
      "Requirement already satisfied: certifi>=2017.4.17 in d:\\anaconda\\lib\\site-packages (from requests==2.17.1->newsapi-python) (2019.3.9)\n",
      "Requirement already satisfied: idna<2.6,>=2.5 in d:\\anaconda\\lib\\site-packages (from requests==2.17.1->newsapi-python) (2.5)\n",
      "Requirement already satisfied: urllib3<1.22,>=1.21.1 in d:\\anaconda\\lib\\site-packages (from requests==2.17.1->newsapi-python) (1.21.1)\n",
      "Note: you may need to restart the kernel to use updated packages.\n"
     ]
    }
   ],
   "source": [
    "pip install newsapi-python"
   ]
  },
  {
   "cell_type": "code",
   "execution_count": 2,
   "metadata": {},
   "outputs": [],
   "source": [
    "from newsapi import NewsApiClient\n",
    "import requests\n",
    "import pandas as pd\n",
    "import numpy as np"
   ]
  },
  {
   "cell_type": "markdown",
   "metadata": {},
   "source": [
    "# To gather source-filtered news about Tesla from 1 month ago"
   ]
  },
  {
   "cell_type": "markdown",
   "metadata": {},
   "source": [
    "## To gather from reputable sources "
   ]
  },
  {
   "cell_type": "code",
   "execution_count": 3,
   "metadata": {},
   "outputs": [],
   "source": [
    "api = NewsApiClient(api_key='a33e0552bf474cb8b3a20c5e6e07a3d0')\n",
    "all_source = api.get_sources()"
   ]
  },
  {
   "cell_type": "code",
   "execution_count": 4,
   "metadata": {},
   "outputs": [],
   "source": [
    "dfsource = []\n",
    "\n",
    "for i in range(0, len(all_source[\"sources\"])):\n",
    "    dfsource.append(all_source[\"sources\"][i][\"id\"])"
   ]
  },
  {
   "cell_type": "code",
   "execution_count": 5,
   "metadata": {},
   "outputs": [],
   "source": [
    "sourcelist=[11,16,18,19,24,35,38,40,43,61,97,110,118,124,125,126] #hand-picked\n",
    "antisourcelist = []\n",
    "\n",
    "for i in range(0, 135):\n",
    "    if i not in sourcelist:\n",
    "        antisourcelist.append(i)"
   ]
  },
  {
   "cell_type": "code",
   "execution_count": 6,
   "metadata": {},
   "outputs": [],
   "source": [
    "dfsource = pd.DataFrame(dfsource)\n",
    "\n",
    "dfsource.columns=[\"sources\"]\n",
    "\n",
    "for i in antisourcelist:\n",
    "    dfsource.drop(labels = i, inplace = True)\n",
    "    \n",
    "dfsource.reset_index(drop = True, inplace = True)"
   ]
  },
  {
   "cell_type": "code",
   "execution_count": 7,
   "metadata": {},
   "outputs": [
    {
     "data": {
      "text/html": [
       "<div>\n",
       "<style scoped>\n",
       "    .dataframe tbody tr th:only-of-type {\n",
       "        vertical-align: middle;\n",
       "    }\n",
       "\n",
       "    .dataframe tbody tr th {\n",
       "        vertical-align: top;\n",
       "    }\n",
       "\n",
       "    .dataframe thead th {\n",
       "        text-align: right;\n",
       "    }\n",
       "</style>\n",
       "<table border=\"1\" class=\"dataframe\">\n",
       "  <thead>\n",
       "    <tr style=\"text-align: right;\">\n",
       "      <th></th>\n",
       "      <th>sources</th>\n",
       "    </tr>\n",
       "  </thead>\n",
       "  <tbody>\n",
       "    <tr>\n",
       "      <th>0</th>\n",
       "      <td>bbc-news</td>\n",
       "    </tr>\n",
       "    <tr>\n",
       "      <th>1</th>\n",
       "      <td>bloomberg</td>\n",
       "    </tr>\n",
       "    <tr>\n",
       "      <th>2</th>\n",
       "      <td>business-insider</td>\n",
       "    </tr>\n",
       "    <tr>\n",
       "      <th>3</th>\n",
       "      <td>business-insider-uk</td>\n",
       "    </tr>\n",
       "    <tr>\n",
       "      <th>4</th>\n",
       "      <td>cnn</td>\n",
       "    </tr>\n",
       "    <tr>\n",
       "      <th>5</th>\n",
       "      <td>financial-post</td>\n",
       "    </tr>\n",
       "    <tr>\n",
       "      <th>6</th>\n",
       "      <td>fortune</td>\n",
       "    </tr>\n",
       "    <tr>\n",
       "      <th>7</th>\n",
       "      <td>fox-news</td>\n",
       "    </tr>\n",
       "    <tr>\n",
       "      <th>8</th>\n",
       "      <td>google-news</td>\n",
       "    </tr>\n",
       "    <tr>\n",
       "      <th>9</th>\n",
       "      <td>independent</td>\n",
       "    </tr>\n",
       "    <tr>\n",
       "      <th>10</th>\n",
       "      <td>reuters</td>\n",
       "    </tr>\n",
       "    <tr>\n",
       "      <th>11</th>\n",
       "      <td>the-economist</td>\n",
       "    </tr>\n",
       "    <tr>\n",
       "      <th>12</th>\n",
       "      <td>the-new-york-times</td>\n",
       "    </tr>\n",
       "    <tr>\n",
       "      <th>13</th>\n",
       "      <td>the-wall-street-journal</td>\n",
       "    </tr>\n",
       "    <tr>\n",
       "      <th>14</th>\n",
       "      <td>the-washington-post</td>\n",
       "    </tr>\n",
       "    <tr>\n",
       "      <th>15</th>\n",
       "      <td>the-washington-times</td>\n",
       "    </tr>\n",
       "  </tbody>\n",
       "</table>\n",
       "</div>"
      ],
      "text/plain": [
       "                    sources\n",
       "0                  bbc-news\n",
       "1                 bloomberg\n",
       "2          business-insider\n",
       "3       business-insider-uk\n",
       "4                       cnn\n",
       "5            financial-post\n",
       "6                   fortune\n",
       "7                  fox-news\n",
       "8               google-news\n",
       "9               independent\n",
       "10                  reuters\n",
       "11            the-economist\n",
       "12       the-new-york-times\n",
       "13  the-wall-street-journal\n",
       "14      the-washington-post\n",
       "15     the-washington-times"
      ]
     },
     "execution_count": 7,
     "metadata": {},
     "output_type": "execute_result"
    }
   ],
   "source": [
    "dfsource"
   ]
  },
  {
   "cell_type": "markdown",
   "metadata": {},
   "source": [
    "## To get the news articles"
   ]
  },
  {
   "cell_type": "code",
   "execution_count": 8,
   "metadata": {},
   "outputs": [],
   "source": [
    "articlelist = []\n",
    "\n",
    "for i in range(0, 16):\n",
    "    response = api.get_everything(q=\"tesla\", sources=dfsource.at[i, \"sources\"], page_size=100)\n",
    "    for j in range(0, len(response[\"articles\"])):\n",
    "        articlelist.append(response[\"articles\"][j])\n",
    "    \n",
    "\n",
    "df = pd.DataFrame(articlelist)"
   ]
  },
  {
   "cell_type": "code",
   "execution_count": 9,
   "metadata": {},
   "outputs": [],
   "source": [
    "df.drop(columns = [\"url\", \"urlToImage\"], inplace = True)"
   ]
  },
  {
   "cell_type": "code",
   "execution_count": 12,
   "metadata": {},
   "outputs": [
    {
     "data": {
      "text/html": [
       "<div>\n",
       "<style scoped>\n",
       "    .dataframe tbody tr th:only-of-type {\n",
       "        vertical-align: middle;\n",
       "    }\n",
       "\n",
       "    .dataframe tbody tr th {\n",
       "        vertical-align: top;\n",
       "    }\n",
       "\n",
       "    .dataframe thead th {\n",
       "        text-align: right;\n",
       "    }\n",
       "</style>\n",
       "<table border=\"1\" class=\"dataframe\">\n",
       "  <thead>\n",
       "    <tr style=\"text-align: right;\">\n",
       "      <th></th>\n",
       "      <th>author</th>\n",
       "      <th>content</th>\n",
       "      <th>description</th>\n",
       "      <th>publishedAt</th>\n",
       "      <th>source</th>\n",
       "      <th>title</th>\n",
       "    </tr>\n",
       "  </thead>\n",
       "  <tbody>\n",
       "    <tr>\n",
       "      <th>0</th>\n",
       "      <td>https://www.facebook.com/bbcnews</td>\n",
       "      <td>Image copyrightTwitterImage caption\\r\\n Adam K...</td>\n",
       "      <td>Social media expert who propelled The Museum o...</td>\n",
       "      <td>2019-05-22T12:26:05Z</td>\n",
       "      <td>{'id': 'bbc-news', 'name': 'BBC News'}</td>\n",
       "      <td>Tesla 'hires' witty museum sheep tweeter</td>\n",
       "    </tr>\n",
       "    <tr>\n",
       "      <th>1</th>\n",
       "      <td>https://www.facebook.com/bbcnews</td>\n",
       "      <td>Image copyrightAFPImage caption\\r\\n Mr Musk (R...</td>\n",
       "      <td>The billionaire rounded on a British diver who...</td>\n",
       "      <td>2019-05-11T18:16:21Z</td>\n",
       "      <td>{'id': 'bbc-news', 'name': 'BBC News'}</td>\n",
       "      <td>Elon Musk faces trial over 'pedo' tweet</td>\n",
       "    </tr>\n",
       "    <tr>\n",
       "      <th>2</th>\n",
       "      <td>https://www.facebook.com/bbcnews</td>\n",
       "      <td>Image copyrightNTSBImage caption\\r\\n The Tesla...</td>\n",
       "      <td>The driver had not had his hands on the wheel ...</td>\n",
       "      <td>2019-05-17T10:35:03Z</td>\n",
       "      <td>{'id': 'bbc-news', 'name': 'BBC News'}</td>\n",
       "      <td>Tesla Model 3: Autopilot engaged during fatal ...</td>\n",
       "    </tr>\n",
       "    <tr>\n",
       "      <th>3</th>\n",
       "      <td>https://www.facebook.com/bbcnews</td>\n",
       "      <td>Image copyrightGetty Images\\r\\nTesla has said ...</td>\n",
       "      <td>The move follows reports that a parked car cau...</td>\n",
       "      <td>2019-05-16T06:30:15Z</td>\n",
       "      <td>{'id': 'bbc-news', 'name': 'BBC News'}</td>\n",
       "      <td>Tesla to update battery software after recent ...</td>\n",
       "    </tr>\n",
       "    <tr>\n",
       "      <th>4</th>\n",
       "      <td>https://www.facebook.com/bbcnews</td>\n",
       "      <td>Image copyrightGetty ImagesImage caption\\r\\n S...</td>\n",
       "      <td>Ted Cruz takes a swipe at \"snarky leftists\" wh...</td>\n",
       "      <td>2019-05-16T16:45:43Z</td>\n",
       "      <td>{'id': 'bbc-news', 'name': 'BBC News'}</td>\n",
       "      <td>US Senator Ted Cruz irked by 'space pirate' ri...</td>\n",
       "    </tr>\n",
       "  </tbody>\n",
       "</table>\n",
       "</div>"
      ],
      "text/plain": [
       "                             author  \\\n",
       "0  https://www.facebook.com/bbcnews   \n",
       "1  https://www.facebook.com/bbcnews   \n",
       "2  https://www.facebook.com/bbcnews   \n",
       "3  https://www.facebook.com/bbcnews   \n",
       "4  https://www.facebook.com/bbcnews   \n",
       "\n",
       "                                             content  \\\n",
       "0  Image copyrightTwitterImage caption\\r\\n Adam K...   \n",
       "1  Image copyrightAFPImage caption\\r\\n Mr Musk (R...   \n",
       "2  Image copyrightNTSBImage caption\\r\\n The Tesla...   \n",
       "3  Image copyrightGetty Images\\r\\nTesla has said ...   \n",
       "4  Image copyrightGetty ImagesImage caption\\r\\n S...   \n",
       "\n",
       "                                         description           publishedAt  \\\n",
       "0  Social media expert who propelled The Museum o...  2019-05-22T12:26:05Z   \n",
       "1  The billionaire rounded on a British diver who...  2019-05-11T18:16:21Z   \n",
       "2  The driver had not had his hands on the wheel ...  2019-05-17T10:35:03Z   \n",
       "3  The move follows reports that a parked car cau...  2019-05-16T06:30:15Z   \n",
       "4  Ted Cruz takes a swipe at \"snarky leftists\" wh...  2019-05-16T16:45:43Z   \n",
       "\n",
       "                                   source  \\\n",
       "0  {'id': 'bbc-news', 'name': 'BBC News'}   \n",
       "1  {'id': 'bbc-news', 'name': 'BBC News'}   \n",
       "2  {'id': 'bbc-news', 'name': 'BBC News'}   \n",
       "3  {'id': 'bbc-news', 'name': 'BBC News'}   \n",
       "4  {'id': 'bbc-news', 'name': 'BBC News'}   \n",
       "\n",
       "                                               title  \n",
       "0           Tesla 'hires' witty museum sheep tweeter  \n",
       "1            Elon Musk faces trial over 'pedo' tweet  \n",
       "2  Tesla Model 3: Autopilot engaged during fatal ...  \n",
       "3  Tesla to update battery software after recent ...  \n",
       "4  US Senator Ted Cruz irked by 'space pirate' ri...  "
      ]
     },
     "execution_count": 12,
     "metadata": {},
     "output_type": "execute_result"
    }
   ],
   "source": [
    "df.head()"
   ]
  },
  {
   "cell_type": "markdown",
   "metadata": {},
   "source": [
    "# Intraday Prices"
   ]
  },
  {
   "cell_type": "markdown",
   "metadata": {},
   "source": [
    "## Worldtradingdata API"
   ]
  },
  {
   "cell_type": "code",
   "execution_count": 14,
   "metadata": {},
   "outputs": [],
   "source": [
    "time_data = requests.get(\"https://intraday.worldtradingdata.com/api/v1/intraday?symbol=TSLA&range=30&interval=5&api_token=HRVV5II6c1MHwsJlPZH2OMw8iJCgZxCjXBR9G9zUOcCxATO6AJxaEfF27gI4\")\n",
    "\n",
    "time_data = time_data.json()"
   ]
  },
  {
   "cell_type": "code",
   "execution_count": 15,
   "metadata": {},
   "outputs": [],
   "source": [
    "timedict = {}\n",
    "\n",
    "for k in time_data[\"intraday\"].keys():\n",
    "    timedict.update({k : time_data[\"intraday\"][k][\"open\"]})"
   ]
  },
  {
   "cell_type": "code",
   "execution_count": 16,
   "metadata": {},
   "outputs": [],
   "source": [
    "dftime = pd.DataFrame([timedict])\n",
    "dftime = dftime.T #transpose\n",
    "dftime.columns = [\"opening prices\"]"
   ]
  },
  {
   "cell_type": "code",
   "execution_count": 17,
   "metadata": {},
   "outputs": [
    {
     "data": {
      "text/html": [
       "<div>\n",
       "<style scoped>\n",
       "    .dataframe tbody tr th:only-of-type {\n",
       "        vertical-align: middle;\n",
       "    }\n",
       "\n",
       "    .dataframe tbody tr th {\n",
       "        vertical-align: top;\n",
       "    }\n",
       "\n",
       "    .dataframe thead th {\n",
       "        text-align: right;\n",
       "    }\n",
       "</style>\n",
       "<table border=\"1\" class=\"dataframe\">\n",
       "  <thead>\n",
       "    <tr style=\"text-align: right;\">\n",
       "      <th></th>\n",
       "      <th>opening prices</th>\n",
       "    </tr>\n",
       "  </thead>\n",
       "  <tbody>\n",
       "    <tr>\n",
       "      <th>2019-04-29 09:30:00</th>\n",
       "      <td>235.86</td>\n",
       "    </tr>\n",
       "    <tr>\n",
       "      <th>2019-04-29 09:35:00</th>\n",
       "      <td>233.50</td>\n",
       "    </tr>\n",
       "    <tr>\n",
       "      <th>2019-04-29 09:40:00</th>\n",
       "      <td>234.91</td>\n",
       "    </tr>\n",
       "    <tr>\n",
       "      <th>2019-04-29 09:45:00</th>\n",
       "      <td>236.28</td>\n",
       "    </tr>\n",
       "    <tr>\n",
       "      <th>2019-04-29 09:50:00</th>\n",
       "      <td>238.90</td>\n",
       "    </tr>\n",
       "  </tbody>\n",
       "</table>\n",
       "</div>"
      ],
      "text/plain": [
       "                    opening prices\n",
       "2019-04-29 09:30:00         235.86\n",
       "2019-04-29 09:35:00         233.50\n",
       "2019-04-29 09:40:00         234.91\n",
       "2019-04-29 09:45:00         236.28\n",
       "2019-04-29 09:50:00         238.90"
      ]
     },
     "execution_count": 17,
     "metadata": {},
     "output_type": "execute_result"
    }
   ],
   "source": [
    "dftime.head()"
   ]
  },
  {
   "cell_type": "markdown",
   "metadata": {},
   "source": [
    "## To save as csv"
   ]
  },
  {
   "cell_type": "code",
   "execution_count": null,
   "metadata": {
    "scrolled": false
   },
   "outputs": [],
   "source": [
    "df.to_csv(r\"*insert path\\newsdata\", mode=\"a\")\n",
    "dftime.to_csv(r\"*insert path\\stockdata\", mode=\"a\")"
   ]
  }
 ],
 "metadata": {
  "kernelspec": {
   "display_name": "Python 3",
   "language": "python",
   "name": "python3"
  },
  "language_info": {
   "codemirror_mode": {
    "name": "ipython",
    "version": 3
   },
   "file_extension": ".py",
   "mimetype": "text/x-python",
   "name": "python",
   "nbconvert_exporter": "python",
   "pygments_lexer": "ipython3",
   "version": "3.7.3"
  }
 },
 "nbformat": 4,
 "nbformat_minor": 2
}
